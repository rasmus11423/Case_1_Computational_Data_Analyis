{
 "cells": [
  {
   "cell_type": "code",
   "execution_count": 2,
   "metadata": {},
   "outputs": [],
   "source": [
    "import numpy as np\n",
    "import pandas as pd\n",
    "from sklearn.model_selection import train_test_split, KFold, GridSearchCV\n",
    "from sklearn.linear_model import LogisticRegression, Ridge, Lasso, LinearRegression\n",
    "from sklearn import svm\n",
    "import matplotlib.pyplot as plt\n",
    "from pathlib import Path"
   ]
  },
  {
   "cell_type": "markdown",
   "metadata": {},
   "source": [
    "Load the data"
   ]
  },
  {
   "cell_type": "code",
   "execution_count": 3,
   "metadata": {},
   "outputs": [
    {
     "name": "stdout",
     "output_type": "stream",
     "text": [
      "X shape: (100, 100)\n",
      "y shape: (100,)\n"
     ]
    }
   ],
   "source": [
    "df = pd.read_csv('data/case1Data.csv')\n",
    "\n",
    "#Missing Data Nan values, replace with mean or median\n",
    "df = df.fillna(df.mean())\n",
    "\n",
    "#Split data into X and Y\n",
    "Y = df['y']\n",
    "X = df.drop(columns=['y'])\n",
    "\n",
    "#Convert to NumPy arrays\n",
    "X = X.to_numpy()      \n",
    "Y = Y.to_numpy()      \n",
    "\n",
    "\n",
    "\n",
    "print(\"X shape:\", X.shape)\n",
    "print(\"y shape:\", Y.shape)"
   ]
  },
  {
   "cell_type": "code",
   "execution_count": 4,
   "metadata": {},
   "outputs": [],
   "source": [
    "def centerData(data):\n",
    "    \n",
    "    mu = np.mean(data,axis=0)\n",
    "    data = data - mu\n",
    "    \n",
    "    return data, mu\n",
    "\n",
    "def normalize(X):\n",
    "    '''\n",
    "    Function for normalizing the columns (variables) of a data matrix to unit length.\n",
    "    Returns the normalized data and the L2 norm of the variables \n",
    "    \n",
    "    Input  (X) --------> The data matrix to be normalized \n",
    "    Output (X_pre)-----> The normalized data matrix \n",
    "    Output (d) --------> Array with the L2 norms of the variables \n",
    "    '''\n",
    "    d = np.linalg.norm(X,axis=0,ord=2)  # d is the euclidian lenghts of the variables \n",
    "    d[d==0]=1                           # Avoid dividing by zero if column L2 norm is zero \n",
    "    X_pre = X / d                       # Normalize the data with the euclidian lengths\n",
    "    return X_pre,d                      # Return normalized data and the euclidian lengths\n",
    "\n"
   ]
  },
  {
   "cell_type": "markdown",
   "metadata": {},
   "source": [
    "Ridge regression"
   ]
  },
  {
   "cell_type": "code",
   "execution_count": 5,
   "metadata": {},
   "outputs": [
    {
     "name": "stdout",
     "output_type": "stream",
     "text": [
      "Ridge Regression R^2 Score: 0.5327041988555337\n",
      "Mean Squared Error: 2637.4713007816817\n"
     ]
    }
   ],
   "source": [
    "#Center data\n",
    "X, mu = centerData(X)\n",
    "#Normalize data\n",
    "X, d = normalize(X)\n",
    "#Center Y\n",
    "Y, mu_y = centerData(Y)\n",
    "\n",
    "# X, Y are numeric and you want to do regression\n",
    "X_train, X_test, Y_train, Y_test = train_test_split(X, Y, test_size=0.2, random_state=0)\n",
    "\n",
    "# Create a Ridge model\n",
    "model = Ridge(alpha=1.0)\n",
    "\n",
    "# Train model\n",
    "model.fit(X_train, Y_train)\n",
    "\n",
    "# Evaluate model (R^2 by default for .score with regressors)\n",
    "score = model.score(X_test, Y_test)\n",
    "print('Ridge Regression R^2 Score:', score)\n",
    "\n",
    "error = np.mean((model.predict(X_test) - Y_test) ** 2)\n",
    "print('Mean Squared Error:', error)\n"
   ]
  },
  {
   "cell_type": "code",
   "execution_count": 6,
   "metadata": {},
   "outputs": [
    {
     "name": "stdout",
     "output_type": "stream",
     "text": [
      "OLS Regression R^2 Score: 0.6336173161330498\n",
      "Mean Squared Error: 2067.9060488791038\n"
     ]
    }
   ],
   "source": [
    "#OLS Regression\n",
    "model = LinearRegression()\n",
    "\n",
    "# Train model\n",
    "model.fit(X_train, Y_train)\n",
    "\n",
    "# Evaluate model (R^2 by default for .score with regressors)\n",
    "score = model.score(X_test, Y_test)\n",
    "print('OLS Regression R^2 Score:', score)\n",
    "\n",
    "error = np.mean((model.predict(X_test) - Y_test) ** 2)\n",
    "print('Mean Squared Error:', error)\n"
   ]
  },
  {
   "cell_type": "code",
   "execution_count": 7,
   "metadata": {},
   "outputs": [
    {
     "name": "stdout",
     "output_type": "stream",
     "text": [
      "Lasso Regression R^2 Score: 0.5849303950312543\n",
      "Mean Squared Error: 2342.700636835843\n"
     ]
    }
   ],
   "source": [
    "# Lasso Regression\n",
    "model = Lasso(alpha=1.0)\n",
    "\n",
    "# Train model\n",
    "model.fit(X_train, Y_train)\n",
    "\n",
    "# Evaluate model (R^2 by default for .score with regressors)\n",
    "score = model.score(X_test, Y_test)\n",
    "print('Lasso Regression R^2 Score:', score)\n",
    "\n",
    "error = np.mean((model.predict(X_test) - Y_test) ** 2)\n",
    "print('Mean Squared Error:', error)"
   ]
  },
  {
   "cell_type": "code",
   "execution_count": null,
   "metadata": {},
   "outputs": [],
   "source": []
  }
 ],
 "metadata": {
  "kernelspec": {
   "display_name": "MLop",
   "language": "python",
   "name": "python3"
  },
  "language_info": {
   "codemirror_mode": {
    "name": "ipython",
    "version": 3
   },
   "file_extension": ".py",
   "mimetype": "text/x-python",
   "name": "python",
   "nbconvert_exporter": "python",
   "pygments_lexer": "ipython3",
   "version": "3.11.11"
  }
 },
 "nbformat": 4,
 "nbformat_minor": 2
}
