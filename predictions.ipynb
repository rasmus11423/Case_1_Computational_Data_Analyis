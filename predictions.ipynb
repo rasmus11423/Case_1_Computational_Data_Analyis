{
 "cells": [
  {
   "cell_type": "code",
   "execution_count": 59,
   "metadata": {},
   "outputs": [],
   "source": [
    "import numpy as np\n",
    "import pandas as pd\n",
    "from sklearn.model_selection import train_test_split, KFold, GridSearchCV\n",
    "from sklearn.linear_model import LogisticRegression, Ridge, Lasso, LinearRegression\n",
    "from sklearn import svm\n",
    "import matplotlib.pyplot as plt\n",
    "from pathlib import Path"
   ]
  },
  {
   "cell_type": "markdown",
   "metadata": {},
   "source": [
    "Load the data"
   ]
  },
  {
   "cell_type": "code",
   "execution_count": null,
   "metadata": {},
   "outputs": [
    {
     "name": "stdout",
     "output_type": "stream",
     "text": [
      "X shape: (100, 100)\n",
      "y shape: (100,)\n"
     ]
    }
   ],
   "source": [
    "df = pd.read_csv('data/case1Data.csv')\n",
    "\n",
    "#Missing Data Nan values, replace with mean or median\n",
    "df = df.fillna(df.mean())\n",
    "\n",
    "#Split data into X and Y\n",
    "Y = df['y']\n",
    "X = df.drop(columns=['y'])\n",
    "\n",
    "#Convert to NumPy arrays\n",
    "X = X.to_numpy()      \n",
    "Y = Y.to_numpy()      \n",
    "\n",
    "\n",
    "print(\"X shape:\", X.shape)\n",
    "print(\"y shape:\", Y.shape)"
   ]
  },
  {
   "cell_type": "markdown",
   "metadata": {},
   "source": [
    "Ridge regression"
   ]
  },
  {
   "cell_type": "code",
   "execution_count": 56,
   "metadata": {},
   "outputs": [
    {
     "name": "stdout",
     "output_type": "stream",
     "text": [
      "Ridge Regression R^2 Score: 0.7252519030715507\n",
      "Mean Squared Error: 1550.7098904343534\n"
     ]
    }
   ],
   "source": [
    "\n",
    "# X, Y are numeric and you want to do regression\n",
    "X_train, X_test, Y_train, Y_test = train_test_split(X, Y, \n",
    "                                                    test_size=0.2, \n",
    "                                                    random_state=0)\n",
    "\n",
    "# Create a Ridge model\n",
    "model = Ridge(alpha=1.0)\n",
    "\n",
    "# Train model\n",
    "model.fit(X_train, Y_train)\n",
    "\n",
    "# Evaluate model (R^2 by default for .score with regressors)\n",
    "score = model.score(X_test, Y_test)\n",
    "print('Ridge Regression R^2 Score:', score)\n",
    "\n",
    "error = np.mean((model.predict(X_test) - Y_test) ** 2)\n",
    "print('Mean Squared Error:', error)\n"
   ]
  },
  {
   "cell_type": "code",
   "execution_count": 61,
   "metadata": {},
   "outputs": [],
   "source": [
    "# import matplotlib.pyplot as plt\n",
    "\n",
    "# y_pred = model.predict(X_test)\n",
    "\n",
    "# plt.scatter(y_pred, Y_test, alpha=0.7)\n",
    "# plt.xlabel(\"Predicted Values\")\n",
    "# plt.ylabel(\"Actual Values\")\n",
    "# plt.title(\"Predicted vs. Actual\")\n",
    "# plt.show()\n"
   ]
  },
  {
   "cell_type": "code",
   "execution_count": 60,
   "metadata": {},
   "outputs": [
    {
     "name": "stdout",
     "output_type": "stream",
     "text": [
      "OLS Regression R^2 Score: 0.6958338459863356\n",
      "Mean Squared Error: 1716.7487914837232\n"
     ]
    }
   ],
   "source": [
    "#OLS Regression\n",
    "model = LinearRegression()\n",
    "\n",
    "# Train model\n",
    "model.fit(X_train, Y_train)\n",
    "\n",
    "# Evaluate model (R^2 by default for .score with regressors)\n",
    "score = model.score(X_test, Y_test)\n",
    "print('OLS Regression R^2 Score:', score)\n",
    "\n",
    "error = np.mean((model.predict(X_test) - Y_test) ** 2)\n",
    "print('Mean Squared Error:', error)\n"
   ]
  },
  {
   "cell_type": "code",
   "execution_count": 62,
   "metadata": {},
   "outputs": [
    {
     "name": "stdout",
     "output_type": "stream",
     "text": [
      "Lasso Regression R^2 Score: 0.8082480165001797\n",
      "Mean Squared Error: 1082.2702710148833\n"
     ]
    }
   ],
   "source": [
    "# Lasso Regression\n",
    "model = Lasso(alpha=1.0)\n",
    "\n",
    "# Train model\n",
    "model.fit(X_train, Y_train)\n",
    "\n",
    "# Evaluate model (R^2 by default for .score with regressors)\n",
    "score = model.score(X_test, Y_test)\n",
    "print('Lasso Regression R^2 Score:', score)\n",
    "\n",
    "error = np.mean((model.predict(X_test) - Y_test) ** 2)\n",
    "print('Mean Squared Error:', error)"
   ]
  },
  {
   "cell_type": "code",
   "execution_count": null,
   "metadata": {},
   "outputs": [],
   "source": []
  }
 ],
 "metadata": {
  "kernelspec": {
   "display_name": "MLop",
   "language": "python",
   "name": "python3"
  },
  "language_info": {
   "codemirror_mode": {
    "name": "ipython",
    "version": 3
   },
   "file_extension": ".py",
   "mimetype": "text/x-python",
   "name": "python",
   "nbconvert_exporter": "python",
   "pygments_lexer": "ipython3",
   "version": "3.11.11"
  }
 },
 "nbformat": 4,
 "nbformat_minor": 2
}
